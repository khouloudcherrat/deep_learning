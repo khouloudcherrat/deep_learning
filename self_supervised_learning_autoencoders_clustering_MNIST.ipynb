{
  "cells": [
    {
      "cell_type": "markdown",
      "id": "3aa05f79",
      "metadata": {
        "id": "3aa05f79"
      },
      "source": [
        "# Self-supervised learning\n",
        "\n",
        "The aim of this lab is :\n",
        "* build different auto-encoders for use in a classification task\n",
        "    * simple auto-encoder\n",
        "    * stacked auto-encoder\n",
        "    * variational auto-encoder\n",
        "\n",
        "* for clustering tasks, we will mainly use kmeans and try to compare 3 approaches:\n",
        "    * kmeans on the original dataset\n",
        "    * kmeans after data encoding\n",
        "    * kmeans after data encoding and projection into a latent space using UMAP\n",
        "\n",
        "We will use the MNIST dataset."
      ]
    },
    {
      "cell_type": "markdown",
      "id": "8a0a513f",
      "metadata": {
        "id": "8a0a513f"
      },
      "source": [
        "## Imports"
      ]
    },
    {
      "cell_type": "code",
      "execution_count": null,
      "id": "aa016d0b",
      "metadata": {
        "ExecuteTime": {
          "end_time": "2023-10-17T11:56:41.590567Z",
          "start_time": "2023-10-17T11:56:41.587713Z"
        },
        "id": "aa016d0b"
      },
      "outputs": [],
      "source": [
        "import os\n",
        "import pandas as pd\n",
        "import numpy as np\n",
        "import matplotlib.pyplot as plt\n",
        "import seaborn as sns"
      ]
    },
    {
      "cell_type": "code",
      "execution_count": null,
      "id": "6d04595d",
      "metadata": {
        "ExecuteTime": {
          "end_time": "2023-10-17T11:56:43.101146Z",
          "start_time": "2023-10-17T11:56:42.082642Z"
        },
        "id": "6d04595d"
      },
      "outputs": [],
      "source": [
        "from sklearn.metrics import confusion_matrix, ConfusionMatrixDisplay\n",
        "from sklearn.metrics import accuracy_score, adjusted_mutual_info_score, normalized_mutual_info_score, adjusted_rand_score\n",
        "from scipy.optimize import linear_sum_assignment"
      ]
    },
    {
      "cell_type": "code",
      "execution_count": null,
      "id": "3f1ab34f",
      "metadata": {
        "ExecuteTime": {
          "end_time": "2023-10-17T11:56:55.978387Z",
          "start_time": "2023-10-17T11:56:43.106687Z"
        },
        "id": "3f1ab34f"
      },
      "outputs": [],
      "source": [
        "#!pip install tensorflow-metal  # For M1 or M2 processor\n",
        "#!pip install tensorflow-macos  # For Intel processor\n",
        "import tensorflow as tf\n",
        "import tensorflow.keras.backend as K\n",
        "\n",
        "from tensorflow.keras import models, layers\n",
        "from tensorflow.keras import losses, optimizers, regularizers, callbacks\n",
        "from tensorflow.keras.utils import plot_model"
      ]
    },
    {
      "cell_type": "code",
      "execution_count": null,
      "id": "e516d80c",
      "metadata": {
        "ExecuteTime": {
          "end_time": "2023-10-17T11:56:56.186156Z",
          "start_time": "2023-10-17T11:56:55.980849Z"
        },
        "id": "e516d80c"
      },
      "outputs": [],
      "source": [
        "!pip install opencv-python\n",
        "import cv2"
      ]
    },
    {
      "cell_type": "markdown",
      "id": "e6fe446a",
      "metadata": {
        "id": "e6fe446a"
      },
      "source": [
        "### Load dataset\n",
        "\n",
        "As we are working in unsupervised mode, the notion of train/test set is not relevant, even though auto-encoders can be used, once built on new data.\n",
        "\n",
        "In our case, we want to cluster the available data as efficiently as possible."
      ]
    },
    {
      "cell_type": "code",
      "execution_count": null,
      "id": "f99720a5",
      "metadata": {
        "ExecuteTime": {
          "end_time": "2023-10-17T12:12:43.205507Z",
          "start_time": "2023-10-17T12:12:42.777773Z"
        },
        "id": "f99720a5",
        "colab": {
          "base_uri": "https://localhost:8080/"
        },
        "outputId": "59010f52-d534-4da3-8e0d-636ea35ecd5f"
      },
      "outputs": [
        {
          "output_type": "stream",
          "name": "stdout",
          "text": [
            "Downloading data from https://storage.googleapis.com/tensorflow/tf-keras-datasets/mnist.npz\n",
            "11490434/11490434 [==============================] - 0s 0us/step\n"
          ]
        }
      ],
      "source": [
        "# Load MNIST dataset\n",
        "from keras.datasets import mnist\n",
        "\n",
        "(X, y), (newImages, _) = mnist.load_data()\n",
        "#newImages for new samples\n",
        "#X,y for the training set"
      ]
    },
    {
      "cell_type": "code",
      "execution_count": null,
      "id": "40fd0086",
      "metadata": {
        "ExecuteTime": {
          "end_time": "2023-10-17T12:12:44.192047Z",
          "start_time": "2023-10-17T12:12:44.156469Z"
        },
        "id": "40fd0086"
      },
      "outputs": [],
      "source": [
        "# Normalization helps in improving the convergence and training stability of models,\n",
        "# Normalize the RGB codes by dividing it to the max RGB value.\n",
        "X = X.astype('float32') / 255.\n",
        "newImages = newImages.astype('float32') / 255.\n",
        "X = X.reshape((len(X), np.prod(X.shape[1:])))\n",
        "newImages = newImages.reshape((len(newImages), np.prod(newImages.shape[1:])))\n",
        "print(newImages.shape)\n",
        "print(X.shape)\n",
        "\n",
        "#normalizes the pixel values by dividing them by the maximum pixel value in the training set. This scales all pixel values to be in the range [0, 1]."
      ]
    },
    {
      "cell_type": "markdown",
      "source": [],
      "metadata": {
        "id": "j_YvYMGTccKP"
      },
      "id": "j_YvYMGTccKP"
    },
    {
      "cell_type": "code",
      "execution_count": null,
      "id": "790f0d62",
      "metadata": {
        "ExecuteTime": {
          "end_time": "2023-10-17T12:12:57.596936Z",
          "start_time": "2023-10-17T12:12:57.591626Z"
        },
        "id": "790f0d62"
      },
      "outputs": [],
      "source": [
        "  # Reshape dataset\n",
        "  # Reshaping the dataset in a way that flattens the arrays while preserving the total number of elements.\n",
        "X = X.reshape(len(X),-1)\n",
        "newImages = newImages.reshape(len(newImages),-1)\n",
        "y =  y.reshape(len(X),-1)\n",
        "X.shape, y.shape\n"
      ]
    },
    {
      "cell_type": "code",
      "execution_count": null,
      "id": "09499b72-4d4d-44b3-bbd1-a9b6fa935caf",
      "metadata": {
        "colab": {
          "base_uri": "https://localhost:8080/"
        },
        "id": "09499b72-4d4d-44b3-bbd1-a9b6fa935caf",
        "outputId": "03f513ab-8574-42d7-dc9c-158bb49f6721"
      },
      "outputs": [
        {
          "output_type": "execute_result",
          "data": {
            "text/plain": [
              "10"
            ]
          },
          "metadata": {},
          "execution_count": 8
        }
      ],
      "source": [
        "nb_classes = len(np.unique(y))\n",
        "nb_classes"
      ]
    },
    {
      "cell_type": "code",
      "execution_count": null,
      "id": "e41508bc-7726-496e-b8d2-4d031c8c141f",
      "metadata": {
        "id": "e41508bc-7726-496e-b8d2-4d031c8c141f"
      },
      "outputs": [],
      "source": [
        "# let's look at the images\n",
        "import random\n",
        "import math\n",
        "\n",
        "def look(X):\n",
        "    X = np.array(X)\n",
        "\n",
        "    if len(X.shape)==3:\n",
        "        n = 4\n",
        "        length = len(X[0])\n",
        "        indexes = [random.randint(0,length-1) for i in range(4)]\n",
        "    else:\n",
        "        X = X.reshape((1, *X.shape))\n",
        "        n = len(X[0])\n",
        "        length = len(X[0])\n",
        "        indexes = [i for i in range(n)]\n",
        "\n",
        "    size = int(math.sqrt(X[0].shape[1]))\n",
        "\n",
        "    fig = plt.figure()\n",
        "    # select n images\n",
        "    for i, index in enumerate(indexes):\n",
        "        for j in range(len(X)):\n",
        "            im1 = X[j][index].reshape((size, size))\n",
        "            plt.subplot(len(X), n, n*j+i+1)\n",
        "            plt.axis('off')\n",
        "            plt.imshow(im1, cmap='gray')\n",
        "    plt.show()"
      ]
    },
    {
      "cell_type": "code",
      "execution_count": null,
      "id": "94f528be-de1e-4bd2-89bb-bf1427918df4",
      "metadata": {
        "colab": {
          "base_uri": "https://localhost:8080/",
          "height": 346
        },
        "id": "94f528be-de1e-4bd2-89bb-bf1427918df4",
        "outputId": "97123345-2183-4be2-fc6b-0c4a2bec56b8"
      },
      "outputs": [
        {
          "output_type": "display_data",
          "data": {
            "text/plain": [
              "<Figure size 640x480 with 8 Axes>"
            ],
            "image/png": "[encoded data removed]"
          },
          "metadata": {}
        }
      ],
      "source": [
        "# First possibility:\n",
        "# input: a list of datasets\n",
        "# behavior : select 4 images in the first dataset and display the corresponding images in the other sets\n",
        "look([X, X])"
      ]
    },
    {
      "cell_type": "code",
      "execution_count": null,
      "id": "766e50c5-f111-4403-a76a-0772f1af603c",
      "metadata": {
        "colab": {
          "base_uri": "https://localhost:8080/",
          "height": 122
        },
        "id": "766e50c5-f111-4403-a76a-0772f1af603c",
        "outputId": "5d8165f6-fa7a-4513-a4d4-1c4de4dbea90"
      },
      "outputs": [
        {
          "output_type": "display_data",
          "data": {
            "text/plain": [
              "<Figure size 640x480 with 5 Axes>"
            ],
            "image/png": "[encoded data removed]"
          },
          "metadata": {}
        }
      ],
      "source": [
        "# Second possibility:\n",
        "# inputs: a list of images,\n",
        "# behavior: display the image list\n",
        "look([X[i] for i in range(5)])"
      ]
    },
    {
      "cell_type": "markdown",
      "id": "fc5479d1",
      "metadata": {
        "id": "fc5479d1"
      },
      "source": [
        "## Part I. Build and fit an auto-encoder\n",
        "\n",
        "**Don't use convolution layers** that we haven't yet seen in the course. Only use dense layers."
      ]
    },
    {
      "cell_type": "markdown",
      "id": "7995c675-2a75-43b2-baa5-f1e6192d30b6",
      "metadata": {
        "id": "7995c675-2a75-43b2-baa5-f1e6192d30b6"
      },
      "source": [
        "### Build a vanilla auto-encoder\n",
        "\n",
        "* Encode input on dimension 10 using only one step.\n",
        "* Choose correct activation function\n",
        "    * relu or sigmoid for hidden layer,\n",
        "    * sigmoid or linear for output layer\n",
        "    * Remember: auto-encoder work well, if you add non-linearity\n",
        "* Build vanilla-encoder, vanilla-decoder and vanilla-auto-encoder models\n",
        "* Choose correct loss function\n",
        "    * Generally, auto-encoder minimises $(y - \\hat{y})^2$\n",
        "* Use Earlystoppping\n",
        "* Plot learning curve in order verify the learning process\n",
        "\n",
        "You may have some indication on [Keras tutorial](https://blog.keras.io/building-autoencoders-in-keras.html) (but you have to adapt it)"
      ]
    },
    {
      "cell_type": "code",
      "execution_count": null,
      "id": "c878832d-d7e6-449e-bc09-670e43633471",
      "metadata": {
        "id": "c878832d-d7e6-449e-bc09-670e43633471"
      },
      "outputs": [],
      "source": [
        "# Build the vanilla auto-encoder\n",
        "from keras.optimizers import Adam\n",
        "from keras.callbacks import EarlyStopping\n",
        "# Input layer\n",
        "import keras\n",
        "\n",
        "input_layer = layers.Input(shape=(784,))\n",
        "\n",
        "# Encoder\n",
        "encoded = layers.Dense(10, activation='relu')(input_layer)\n",
        "\n",
        "# Decoder\n",
        "decoded = layers.Dense(784, activation='sigmoid')(encoded)\n",
        "\n",
        "# Create the auto-encoder model\n",
        "autoencoder = models.Model(input_layer, decoded)\n",
        "\n",
        "# Compile the auto-encoder\n",
        "autoencoder.compile(optimizer=\"adam\", loss='binary_crossentropy')\n",
        "\n",
        "# This model maps an input to its encoded representation\n",
        "encoder = keras.Model(input_layer, encoded)\n",
        "encoded_input = keras.Input(shape=(10,))\n",
        "# Retrieve the last layer of the autoencoder model\n",
        "decoder_layer = autoencoder.layers[-1]\n",
        "# Create the decoder model\n",
        "decoder = keras.Model(encoded_input, decoder_layer(encoded_input))"
      ]
    },
    {
      "cell_type": "code",
      "source": [
        "# Fit your vanilla auto-encoder\n",
        "history = autoencoder.fit(X, X, epochs=50, callbacks=[callbacks.EarlyStopping()], validation_data=(newImages, newImages));"
      ],
      "metadata": {
        "colab": {
          "base_uri": "https://localhost:8080/"
        },
        "id": "dNRz9C1YpwoI",
        "outputId": "8d95686c-a8d4-4245-f648-f32b3570ee67"
      },
      "id": "dNRz9C1YpwoI",
      "execution_count": null,
      "outputs": [
        {
          "output_type": "stream",
          "name": "stdout",
          "text": [
            "Epoch 1/50\n",
            "1875/1875 [==============================] - 15s 8ms/step - loss: 0.2090 - val_loss: 0.1673\n",
            "Epoch 2/50\n",
            "1875/1875 [==============================] - 15s 8ms/step - loss: 0.1652 - val_loss: 0.1610\n",
            "Epoch 3/50\n",
            "1875/1875 [==============================] - 9s 5ms/step - loss: 0.1605 - val_loss: 0.1573\n",
            "Epoch 4/50\n",
            "1875/1875 [==============================] - 7s 4ms/step - loss: 0.1580 - val_loss: 0.1555\n",
            "Epoch 5/50\n",
            "1875/1875 [==============================] - 8s 4ms/step - loss: 0.1567 - val_loss: 0.1547\n",
            "Epoch 6/50\n",
            "1875/1875 [==============================] - 6s 3ms/step - loss: 0.1560 - val_loss: 0.1540\n",
            "Epoch 7/50\n",
            "1875/1875 [==============================] - 7s 4ms/step - loss: 0.1555 - val_loss: 0.1536\n",
            "Epoch 8/50\n",
            "1875/1875 [==============================] - 6s 3ms/step - loss: 0.1552 - val_loss: 0.1533\n",
            "Epoch 9/50\n",
            "1875/1875 [==============================] - 7s 4ms/step - loss: 0.1549 - val_loss: 0.1531\n",
            "Epoch 10/50\n",
            "1875/1875 [==============================] - 6s 3ms/step - loss: 0.1547 - val_loss: 0.1530\n",
            "Epoch 11/50\n",
            "1875/1875 [==============================] - 7s 4ms/step - loss: 0.1545 - val_loss: 0.1528\n",
            "Epoch 12/50\n",
            "1875/1875 [==============================] - 6s 3ms/step - loss: 0.1544 - val_loss: 0.1526\n",
            "Epoch 13/50\n",
            "1875/1875 [==============================] - 7s 4ms/step - loss: 0.1543 - val_loss: 0.1526\n",
            "Epoch 14/50\n",
            "1875/1875 [==============================] - 7s 4ms/step - loss: 0.1542 - val_loss: 0.1524\n",
            "Epoch 15/50\n",
            "1875/1875 [==============================] - 8s 4ms/step - loss: 0.1541 - val_loss: 0.1524\n",
            "Epoch 16/50\n",
            "1875/1875 [==============================] - 6s 3ms/step - loss: 0.1540 - val_loss: 0.1524\n",
            "Epoch 17/50\n",
            "1875/1875 [==============================] - 6s 3ms/step - loss: 0.1540 - val_loss: 0.1523\n",
            "Epoch 18/50\n",
            "1875/1875 [==============================] - 7s 4ms/step - loss: 0.1539 - val_loss: 0.1523\n"
          ]
        }
      ]
    },
    {
      "cell_type": "code",
      "source": [
        "\n",
        "# Plot the learning curve\n",
        "plt.plot(history.history['loss'], label='Training Loss')\n",
        "plt.plot(history.history['val_loss'], label='Validation Loss')\n",
        "plt.xlabel('Epochs')\n",
        "plt.ylabel('Loss')\n",
        "plt.legend()\n",
        "plt.show()"
      ],
      "metadata": {
        "colab": {
          "base_uri": "https://localhost:8080/",
          "height": 449
        },
        "id": "RwkykkripxEL",
        "outputId": "49b54a95-074b-40fa-dbff-b1d8ccc1d28b"
      },
      "id": "RwkykkripxEL",
      "execution_count": null,
      "outputs": [
        {
          "output_type": "display_data",
          "data": {
            "text/plain": [
              "<Figure size 640x480 with 1 Axes>"
            ],
            "image/png": "[encoded data removed]"
          },
          "metadata": {}
        }
      ]
    },
    {
      "cell_type": "code",
      "source": [
        "decoded_images = autoencoder.predict(newImages)\n"
      ],
      "metadata": {
        "colab": {
          "base_uri": "https://localhost:8080/"
        },
        "id": "wTTncowdtKw4",
        "outputId": "e3f8fe53-6246-4285-b9e0-67adc9338616"
      },
      "id": "wTTncowdtKw4",
      "execution_count": null,
      "outputs": [
        {
          "output_type": "stream",
          "name": "stdout",
          "text": [
            "313/313 [==============================] - 1s 2ms/step\n"
          ]
        }
      ]
    },
    {
      "cell_type": "code",
      "source": [
        "# Use Matplotlib\n",
        "import matplotlib.pyplot as plt\n",
        "\n",
        "n = 10  # How many digits we will display\n",
        "plt.figure(figsize=(20, 4))\n",
        "for i in range(n):\n",
        "    # Display original\n",
        "    ax = plt.subplot(2, n, i + 1)\n",
        "    plt.imshow(newImages[i].reshape(28, 28))\n",
        "    plt.gray()\n",
        "    ax.get_xaxis().set_visible(False)\n",
        "    ax.get_yaxis().set_visible(False)\n",
        "\n",
        "    # Display reconstruction\n",
        "    ax = plt.subplot(2, n, i + 1 + n)\n",
        "    plt.imshow(decoded_images[i].reshape(28, 28))\n",
        "    plt.gray()\n",
        "    ax.get_xaxis().set_visible(False)\n",
        "    ax.get_yaxis().set_visible(False)\n",
        "plt.show()"
      ],
      "metadata": {
        "colab": {
          "base_uri": "https://localhost:8080/",
          "height": 336
        },
        "id": "sXNlZULytIA_",
        "outputId": "227f32bc-31ef-4977-e058-fcd9ad73f6c3"
      },
      "id": "sXNlZULytIA_",
      "execution_count": null,
      "outputs": [
        {
          "output_type": "display_data",
          "data": {
            "text/plain": [
              "<Figure size 2000x400 with 20 Axes>"
            ],
            "image/png": "[encoded data removed]"
          },
          "metadata": {}
        }
      ]
    },
    {
      "cell_type": "markdown",
      "id": "95bfc2e5-eb8b-480a-847b-8230e60156fc",
      "metadata": {
        "id": "95bfc2e5-eb8b-480a-847b-8230e60156fc"
      },
      "source": [
        "### Build a stacked auto-encoder\n",
        "\n",
        "Same question as above, but with a stacked auto-encoder with the following dimensions: [500, 500, 2000, 10].\n",
        "\n",
        "Build deep-encoder, deep-decoder and deep-auto-encoder models\n",
        "\n",
        "Train all layers simultaneously."
      ]
    },
    {
      "cell_type": "code",
      "execution_count": null,
      "id": "c1185237-567b-4f89-8256-b74e81902769",
      "metadata": {
        "colab": {
          "base_uri": "https://localhost:8080/"
        },
        "id": "c1185237-567b-4f89-8256-b74e81902769",
        "outputId": "a5e421a3-68ec-426e-d34c-b4f201b94b6a"
      },
      "outputs": [
        {
          "output_type": "stream",
          "name": "stdout",
          "text": [
            "Epoch 1/50\n",
            "235/235 [==============================] - 45s 184ms/step - loss: 0.2430 - val_loss: 0.1836\n",
            "Epoch 2/50\n",
            "235/235 [==============================] - 38s 161ms/step - loss: 0.1676 - val_loss: 0.1558\n",
            "Epoch 3/50\n",
            "235/235 [==============================] - 37s 156ms/step - loss: 0.1507 - val_loss: 0.1466\n",
            "Epoch 4/50\n",
            "235/235 [==============================] - 38s 162ms/step - loss: 0.1446 - val_loss: 0.1427\n",
            "Epoch 5/50\n",
            "235/235 [==============================] - 37s 156ms/step - loss: 0.1413 - val_loss: 0.1398\n",
            "Epoch 6/50\n",
            "235/235 [==============================] - 38s 160ms/step - loss: 0.1389 - val_loss: 0.1384\n",
            "Epoch 7/50\n",
            "235/235 [==============================] - 36s 155ms/step - loss: 0.1368 - val_loss: 0.1361\n",
            "Epoch 8/50\n",
            "235/235 [==============================] - 38s 163ms/step - loss: 0.1349 - val_loss: 0.1348\n",
            "Epoch 9/50\n",
            "235/235 [==============================] - 37s 160ms/step - loss: 0.1334 - val_loss: 0.1337\n",
            "Epoch 10/50\n",
            "235/235 [==============================] - 38s 163ms/step - loss: 0.1319 - val_loss: 0.1332\n",
            "Epoch 11/50\n",
            "235/235 [==============================] - 37s 156ms/step - loss: 0.1306 - val_loss: 0.1320\n",
            "Epoch 12/50\n",
            "235/235 [==============================] - 39s 165ms/step - loss: 0.1294 - val_loss: 0.1309\n",
            "Epoch 13/50\n",
            "235/235 [==============================] - 37s 156ms/step - loss: 0.1284 - val_loss: 0.1305\n",
            "Epoch 14/50\n",
            "235/235 [==============================] - 39s 164ms/step - loss: 0.1273 - val_loss: 0.1295\n",
            "Epoch 15/50\n",
            "235/235 [==============================] - 37s 156ms/step - loss: 0.1266 - val_loss: 0.1290\n",
            "Epoch 16/50\n",
            "235/235 [==============================] - 38s 162ms/step - loss: 0.1257 - val_loss: 0.1279\n",
            "Epoch 17/50\n",
            "235/235 [==============================] - 36s 155ms/step - loss: 0.1251 - val_loss: 0.1277\n",
            "Epoch 18/50\n",
            "235/235 [==============================] - 38s 162ms/step - loss: 0.1244 - val_loss: 0.1288\n"
          ]
        }
      ],
      "source": [
        "# Build your deep auto-encoder\n",
        "deep_layers = [500, 500, 2000, 10]\n",
        "\n",
        "inputs = layers.Input(shape=(784,))\n",
        "encoded = layers.Dense(deep_layers[0], activation='relu')(inputs)\n",
        "for ed in deep_layers[1:]:\n",
        "    encoded = layers.Dense(ed, activation='relu')(encoded)\n",
        "decoded = encoded\n",
        "for dec in reversed(deep_layers):\n",
        "    decoded = layers.Dense(dec, activation='relu')(decoded)\n",
        "\n",
        "outputs = layers.Dense(784, activation='sigmoid')(decoded)\n",
        "deep_autoencoder = models.Model(inputs=inputs, outputs=outputs)\n",
        "\n",
        "# Compile your deep auto-encoder\n",
        "deep_autoencoder.compile(optimizer='adam', loss='binary_crossentropy')\n",
        "\n",
        "# Fit your deep auto-encoder\n",
        "history = deep_autoencoder.fit(X, X, epochs=50, batch_size=256, validation_data=(newImages, newImages), validation_batch_size=32, callbacks=[callbacks.EarlyStopping()]);\n"
      ]
    },
    {
      "cell_type": "code",
      "source": [
        "# Plot the learning curve\n",
        "plt.plot(history.history['loss'], label='Training Loss')\n",
        "plt.plot(history.history['val_loss'], label='Validation Loss')\n",
        "plt.xlabel('Epochs')\n",
        "plt.ylabel('Loss')\n",
        "plt.legend()\n",
        "plt.show()"
      ],
      "metadata": {
        "colab": {
          "base_uri": "https://localhost:8080/",
          "height": 449
        },
        "id": "LVX1175cxKJz",
        "outputId": "963b44f8-660f-4cff-d9c1-c710a1410ff3"
      },
      "id": "LVX1175cxKJz",
      "execution_count": null,
      "outputs": [
        {
          "output_type": "display_data",
          "data": {
            "text/plain": [
              "<Figure size 640x480 with 1 Axes>"
            ],
            "image/png": "[encoded data removed]"
          },
          "metadata": {}
        }
      ]
    },
    {
      "cell_type": "markdown",
      "id": "a76e86d5-8ef2-4ddc-8eb4-046456e9ac59",
      "metadata": {
        "id": "a76e86d5-8ef2-4ddc-8eb4-046456e9ac59"
      },
      "source": [
        "### Use greedy approach to train \"Deep Auto-Encoder\"\n",
        "\n",
        "It is generally difficult to set up a stacked auto-encoder by training all the layers simultaneously if there is too much layers. We therefore proceed layer by layer. The technical term is **greedy layer-wise pretraining** and this approach can be used to train deep networks by progressively adding new layers to be trained. The [following article](https://machinelearningmastery.com/greedy-layer-wise-pretraining-tutorial/) gives you an example of how it can be used.\n",
        "\n",
        "How to proceed to train a [500, 500, 2000, 10]:\n",
        "* Train a first auto-encoder (a1, e1): $X$ --> Dense(500) --> Dense(784) -> $\\hat{X}$\n",
        "* Save all weigths\n",
        "* Encode the dataset with the previous encoder: $X1$ = e1.predict(X)\n",
        "* do the same for the next layer (a2, e2): $X1$ --> Dense(500) --> Dense(500) -> $\\hat{X2\n",
        "* Save all weigths\n",
        "* Encode the dataset with the previous encoder: $X2$ = e2.predict(X1)\n",
        "* etc. until the last layer.\n",
        "\n",
        "Then create a full auto-encoder [500, 500, 2000, 10]\n",
        "* Initialise all weigths with the previously saved weights (a1, a2, a3, a4)\n",
        "* Fine-tune the final one in order to obtain autoencoder3, encoder3"
      ]
    },
    {
      "cell_type": "code",
      "execution_count": null,
      "id": "02257a0a-4e8d-408d-9489-078b14156a4c",
      "metadata": {
        "id": "02257a0a-4e8d-408d-9489-078b14156a4c"
      },
      "outputs": [],
      "source": [
        "def create_model(input_units, dimensions, encoder_weights, decoder_weights):\n",
        "    input_layer = layers.Input(shape=(input_units,))\n",
        "\n",
        "    x = input_layer\n",
        "    # encoder segment\n",
        "    for dim in dimensions:\n",
        "        x = layers.Dense(dim, activation='relu')(x)\n",
        "\n",
        "    # decoder segment\n",
        "    for dim in list(reversed(dimensions))[1:]:\n",
        "        x = layers.Dense(dim, activation='relu')(x)\n",
        "\n",
        "    output_layer = layers.Dense(input_units, activation='sigmoid')(x)\n",
        "    model = models.Model(input_layer, output_layer)\n",
        "\n",
        "    for i, w in enumerate(encoder_weights, start=1):\n",
        "        # encoder layers\n",
        "        model.layers[i].set_weights(w)\n",
        "        model.layers[i].trainable = False #the weights of this layer should not be updated during further training.\n",
        "    for i, w in enumerate(decoder_weights, start=1):\n",
        "        # decoder layers\n",
        "        model.layers[-i].set_weights(w)\n",
        "        model.layers[-i].trainable = False\n",
        "\n",
        "    return model\n",
        "\n",
        "def train_greedy_autoencoder(X, layer_dimensions, epochs=10, batch_size=256, optimization='adam', loss_function='binary_crossentropy', validation_X=None):\n",
        "    input_dimensions = X.shape[1]\n",
        "    encoder_weights = []\n",
        "    decoder_weights = []\n",
        "\n",
        "    model = create_model(input_dimensions, [layer_dimensions[0]], [], [])\n",
        "    model.compile(optimizer=optimization, loss=loss_function)\n",
        "\n",
        "    print(f\"Training layer 1\")\n",
        "    model.fit(X ,X, batch_size=batch_size, epochs=epochs)\n",
        "\n",
        "    for i in range(2, len(layer_dimensions) + 1):\n",
        "        # save weights of previous layers\n",
        "        encoder_weights.append(model.layers[i-1].get_weights())\n",
        "        decoder_weights.append(model.layers[-i+1].get_weights())\n",
        "\n",
        "        model = create_model(input_dimensions, layer_dimensions[:i], encoder_weights, decoder_weights)\n",
        "        model.compile(optimizer=optimization, loss=loss_function)\n",
        "\n",
        "        print(f\"Training of layer {i}\")\n",
        "        model.fit(X, X, batch_size=batch_size, epochs=epochs)\n",
        "\n",
        "    full_autoencoder = create_model(input_dimensions, layer_dimensions, encoder_weights, decoder_weights)\n",
        "    for layer in full_autoencoder.layers:\n",
        "        layer.trainable = True\n",
        "    full_autoencoder.compile(optimizer=optimization, loss=loss_function)\n",
        "\n",
        "    history = full_autoencoder.fit(X, X,\n",
        "                                   epochs=epochs,\n",
        "                                   batch_size=batch_size,\n",
        "                                   validation_data=(validation_X, validation_X),\n",
        "                                   validation_batch_size=64,\n",
        "                                   callbacks=[callbacks.EarlyStopping()]\n",
        "                                )\n",
        "    return history, full_autoencoder"
      ]
    },
    {
      "cell_type": "code",
      "source": [
        "hist, greedy_a = train_greedy_autoencoder(X, [500, 500, 2000, 10], epochs=50, validation_X=newImages)"
      ],
      "metadata": {
        "id": "Mv2pSS7eBtNN"
      },
      "id": "Mv2pSS7eBtNN",
      "execution_count": null,
      "outputs": []
    },
    {
      "cell_type": "code",
      "source": [
        "# Plot the learning curve\n",
        "plt.plot(hist.hist['loss'], label='Training Loss')\n",
        "plt.plot(hist.hist['val_loss'], label='Validation Loss')\n",
        "plt.xlabel('Epochs')\n",
        "plt.ylabel('Loss')\n",
        "plt.legend()\n",
        "plt.show()"
      ],
      "metadata": {
        "id": "QObDZGxACXIp"
      },
      "id": "QObDZGxACXIp",
      "execution_count": null,
      "outputs": []
    },
    {
      "cell_type": "markdown",
      "id": "3b211253-5566-4910-a040-4702a2d8874a",
      "metadata": {
        "id": "3b211253-5566-4910-a040-4702a2d8874a"
      },
      "source": [
        "## Part II : Use of the auto-encoders\n",
        "\n",
        "It's time to use the prepared auto-encoders."
      ]
    },
    {
      "cell_type": "markdown",
      "id": "13cc2794-7133-41bd-9552-a4b63635c954",
      "metadata": {
        "id": "13cc2794-7133-41bd-9552-a4b63635c954"
      },
      "source": [
        "### Comparing reconstructions\n",
        "\n",
        "using the look function, you can :\n",
        "* apply the predict method of the auto-encoders built to the dataset\n",
        "* view the reconstruction of some images."
      ]
    },
    {
      "cell_type": "code",
      "execution_count": null,
      "id": "0ccbf5cc-269a-470d-bbc5-cd021316d94b",
      "metadata": {
        "id": "0ccbf5cc-269a-470d-bbc5-cd021316d94b"
      },
      "outputs": [],
      "source": [
        "decoded_images = autoencoder.predict(newImages)\n",
        "# Use Matplotlib\n",
        "import matplotlib.pyplot as plt\n",
        "\n",
        "n = 10  # How many digits we will display\n",
        "plt.figure(figsize=(20, 4))\n",
        "for i in range(n):\n",
        "    # Display original\n",
        "    ax = plt.subplot(2, n, i + 1)\n",
        "    plt.imshow(newImages[i].reshape(28, 28))\n",
        "    plt.gray()\n",
        "    ax.get_xaxis().set_visible(False)\n",
        "    ax.get_yaxis().set_visible(False)\n",
        "\n",
        "    # Display reconstruction\n",
        "    ax = plt.subplot(2, n, i + 1 + n)\n",
        "    plt.imshow(decoded_imgs[i].reshape(28, 28))\n",
        "    plt.gray()\n",
        "    ax.get_xaxis().set_visible(False)\n",
        "    ax.get_yaxis().set_visible(False)\n",
        "plt.show()"
      ]
    },
    {
      "cell_type": "code",
      "source": [
        "decoded_images = greedy_a.predict(newImages)\n",
        "# Use Matplotlib\n",
        "import matplotlib.pyplot as plt\n",
        "\n",
        "n = 10  # How many digits we will display\n",
        "plt.figure(figsize=(20, 4))\n",
        "for i in range(n):\n",
        "    # Display original\n",
        "    ax = plt.subplot(2, n, i + 1)\n",
        "    plt.imshow(newImages[i].reshape(28, 28))\n",
        "    plt.gray()\n",
        "    ax.get_xaxis().set_visible(False)\n",
        "    ax.get_yaxis().set_visible(False)\n",
        "\n",
        "    # Display reconstruction\n",
        "    ax = plt.subplot(2, n, i + 1 + n)\n",
        "    plt.imshow(decoded_imgs[i].reshape(28, 28))\n",
        "    plt.gray()\n",
        "    ax.get_xaxis().set_visible(False)\n",
        "    ax.get_yaxis().set_visible(False)\n",
        "plt.show()"
      ],
      "metadata": {
        "id": "4tueTD-ACvnz"
      },
      "id": "4tueTD-ACvnz",
      "execution_count": null,
      "outputs": []
    },
    {
      "cell_type": "markdown",
      "id": "90e9208e-46b5-4c69-9803-5b013e019809",
      "metadata": {
        "id": "90e9208e-46b5-4c69-9803-5b013e019809"
      },
      "source": [
        "### Morphing\n",
        "\n",
        "In this section, we will perturb the latent representation before decoding. Perturbations will be represented as additive noise. We will also explore the latent space by searching for latent vectors in the neighbourhood of some latent representation of training samples and see how the decoding representation looks like.\n",
        "\n",
        "To do this:\n",
        "* Choose 2 images: source and destination\n",
        "* Encode each of these images using an auto-encoder (take the one that works best for you).\n",
        "* Create a list containing\n",
        "    * first element: the source\n",
        "    * various elements (you choose the number) built from $\\alpha \\%$ of the source and $(1-\\alpha) \\%$ of the destination (increasing value of x between 0 and 1)\n",
        "    * last element: the destination\n",
        "* Decode each of the elements in the list and display them using the previous look function"
      ]
    },
    {
      "cell_type": "code",
      "execution_count": null,
      "id": "65ef7d13-e9e8-4d97-930b-a9e90367501f",
      "metadata": {
        "id": "65ef7d13-e9e8-4d97-930b-a9e90367501f"
      },
      "outputs": [],
      "source": [
        "#Morphing, short for metamorphosis,\n",
        "#refers to a process of smoothly transforming one image into another.\n",
        "def custom_encode(encoder, image):\n",
        "    \"\"\"Encode an image using the given encoder.\"\"\"\n",
        "    return encoder.predict(np.array([image]))[0]\n",
        "\n",
        "def custom_decode(decoder, encoded_image):\n",
        "    \"\"\"Decode an encoded image using the given decoder.\"\"\"\n",
        "    return decoder.predict(np.array([encoded_image]))[0]\n",
        "\n",
        "def morph_images_custom_names(encoder, decoder, source_img, destination_img, steps=10):\n",
        "    # Encode the source and destination images to get their latent representations\n",
        "    source_encoded = custom_encode(encoder, source_img)\n",
        "    destination_encoded = custom_encode(encoder, destination_img)\n",
        "\n",
        "    # Interpolate between the source and destination in the latent space\n",
        "    interpolated_images = []\n",
        "    for step in range(steps + 1):\n",
        "        alpha = step / steps\n",
        "        interpolated_encoded = alpha * source_encoded + (1 - alpha) * destination_encoded\n",
        "        interpolated_images.append(interpolated_encoded)\n",
        "\n",
        "    # Decode the interpolated representations to images\n",
        "    decoded_images = [custom_decode(decoder, encoded) for encoded in interpolated_images]\n",
        "\n",
        "    # Display the images\n",
        "    plt.figure(figsize=(20, 4))\n",
        "    for i, img in enumerate(decoded_images):\n",
        "        plt.subplot(1, len(decoded_images), i + 1)\n",
        "        plt.imshow(img.reshape(28, 28), cmap='gray')  # Assuming grayscale images\n",
        "        plt.title(f'Alpha: {i/steps:.2f}')\n",
        "        plt.axis('off')\n",
        "    plt.show()\n",
        "\n",
        "    #interpolation refers to the process of generating intermediate values between two known values.\n",
        "    #In this case, the known values are the encoded representations of a source image and a destination\n",
        "    # image. The goal is to generate a series of intermediate representations (latent vectors) that smoothly transition from the source to the destination in the latent space."
      ]
    },
    {
      "cell_type": "code",
      "source": [
        "src_img = newImages[random.randint(0, len(newImages))]\n",
        "dest_img = newImages[random.randint(0, len(newImages))]\n",
        "\n",
        "morph_images_custom_names(encoder, decoder, src_img, dest_img)"
      ],
      "metadata": {
        "colab": {
          "base_uri": "https://localhost:8080/",
          "height": 404
        },
        "id": "FJEH6v97xR7k",
        "outputId": "c02d670d-fec3-4c11-e384-2da6af852b0d"
      },
      "id": "FJEH6v97xR7k",
      "execution_count": null,
      "outputs": [
        {
          "output_type": "stream",
          "name": "stdout",
          "text": [
            "1/1 [==============================] - 0s 70ms/step\n",
            "1/1 [==============================] - 0s 35ms/step\n",
            "1/1 [==============================] - 0s 48ms/step\n",
            "1/1 [==============================] - 0s 26ms/step\n",
            "1/1 [==============================] - 0s 23ms/step\n",
            "1/1 [==============================] - 0s 23ms/step\n",
            "1/1 [==============================] - 0s 22ms/step\n",
            "1/1 [==============================] - 0s 22ms/step\n",
            "1/1 [==============================] - 0s 24ms/step\n",
            "1/1 [==============================] - 0s 22ms/step\n",
            "1/1 [==============================] - 0s 21ms/step\n",
            "1/1 [==============================] - 0s 21ms/step\n",
            "1/1 [==============================] - 0s 23ms/step\n"
          ]
        },
        {
          "output_type": "display_data",
          "data": {
            "text/plain": [
              "<Figure size 2000x400 with 11 Axes>"
            ],
            "image/png": "[encoded data removed]"
          },
          "metadata": {}
        }
      ]
    },
    {
      "cell_type": "markdown",
      "id": "056ee850",
      "metadata": {
        "id": "056ee850"
      },
      "source": [
        "## Part 3 - Deep clustering"
      ]
    },
    {
      "cell_type": "markdown",
      "id": "f2cb2c94",
      "metadata": {
        "id": "f2cb2c94"
      },
      "source": [
        "### Baseline with KMean (classical approach for clustering)\n",
        "\n",
        "Build a baseline and evaluate it"
      ]
    },
    {
      "cell_type": "code",
      "execution_count": null,
      "id": "7e54fee8-057d-4295-b960-98841cbde663",
      "metadata": {
        "id": "7e54fee8-057d-4295-b960-98841cbde663",
        "colab": {
          "base_uri": "https://localhost:8080/"
        },
        "outputId": "0c0b0808-cd2d-4855-9ebd-4255e31a6495"
      },
      "outputs": [
        {
          "output_type": "stream",
          "name": "stdout",
          "text": [
            "Silhouette Score: 0.05892796069383621\n"
          ]
        }
      ],
      "source": [
        "from sklearn.cluster import KMeans\n",
        "from sklearn.metrics import silhouette_score\n",
        "\n",
        "X = newImages\n",
        "\n",
        "# Perform k-means clustering\n",
        "kmeans = KMeans(n_clusters=10, n_init=10, random_state=42) #The n_init parameter in k-means clustering is the number of times the algorithm will be run with different centroid seeds.\n",
        "#a higher value of n_init increases the chances of finding a globally optimal solution.\n",
        "kmeans.fit(X)\n",
        "y_pred = kmeans.predict(X)\n",
        "\n",
        "# Calculate silhouette score\n",
        "silhouette_avg = silhouette_score(X, y_pred)\n",
        "#The silhouette score ranges from -1 to 1,\n",
        "#where a high value indicates that the object is well matched to its own cluster and poorly matched to neighboring clusters.\n",
        "# Print silhouette score\n",
        "print(f\"Silhouette Score: {silhouette_avg}\")\n"
      ]
    },
    {
      "cell_type": "markdown",
      "id": "83499286-6033-4910-910b-b0d274a14688",
      "metadata": {
        "id": "83499286-6033-4910-910b-b0d274a14688"
      },
      "source": [
        "### DCN: use latent representation for clustering\n",
        "\n",
        "Use a latent reprensentation for clustering. Evaluate the result."
      ]
    },
    {
      "cell_type": "code",
      "execution_count": null,
      "id": "ad93cce0-3fbe-4e84-8943-0acb674b466f",
      "metadata": {
        "id": "ad93cce0-3fbe-4e84-8943-0acb674b466f",
        "colab": {
          "base_uri": "https://localhost:8080/"
        },
        "outputId": "4327627e-2c69-4fed-8593-2878097a77f7"
      },
      "outputs": [
        {
          "output_type": "stream",
          "name": "stdout",
          "text": [
            "Epoch 1/50\n",
            "40/40 [==============================] - 5s 70ms/step - loss: 0.4138 - val_loss: 0.2722\n",
            "Epoch 2/50\n",
            "40/40 [==============================] - 2s 54ms/step - loss: 0.2627 - val_loss: 0.2516\n",
            "Epoch 3/50\n",
            "40/40 [==============================] - 2s 55ms/step - loss: 0.2385 - val_loss: 0.2207\n",
            "Epoch 4/50\n",
            "40/40 [==============================] - 2s 47ms/step - loss: 0.2052 - val_loss: 0.1898\n",
            "Epoch 5/50\n",
            "40/40 [==============================] - 2s 44ms/step - loss: 0.1826 - val_loss: 0.1761\n",
            "Epoch 6/50\n",
            "40/40 [==============================] - 2s 47ms/step - loss: 0.1717 - val_loss: 0.1676\n",
            "Epoch 7/50\n",
            "40/40 [==============================] - 2s 51ms/step - loss: 0.1614 - val_loss: 0.1568\n",
            "Epoch 8/50\n",
            "40/40 [==============================] - 2s 47ms/step - loss: 0.1538 - val_loss: 0.1502\n",
            "Epoch 9/50\n",
            "40/40 [==============================] - 2s 55ms/step - loss: 0.1485 - val_loss: 0.1463\n",
            "Epoch 10/50\n",
            "40/40 [==============================] - 3s 76ms/step - loss: 0.1446 - val_loss: 0.1443\n",
            "Epoch 11/50\n",
            "40/40 [==============================] - 2s 49ms/step - loss: 0.1418 - val_loss: 0.1404\n",
            "Epoch 12/50\n",
            "40/40 [==============================] - 1s 24ms/step - loss: 0.1389 - val_loss: 0.1376\n",
            "Epoch 13/50\n",
            "40/40 [==============================] - 1s 23ms/step - loss: 0.1366 - val_loss: 0.1350\n",
            "Epoch 14/50\n",
            "40/40 [==============================] - 1s 23ms/step - loss: 0.1341 - val_loss: 0.1329\n",
            "Epoch 15/50\n",
            "40/40 [==============================] - 1s 23ms/step - loss: 0.1317 - val_loss: 0.1302\n",
            "Epoch 16/50\n",
            "40/40 [==============================] - 1s 23ms/step - loss: 0.1294 - val_loss: 0.1292\n",
            "Epoch 17/50\n",
            "40/40 [==============================] - 1s 23ms/step - loss: 0.1274 - val_loss: 0.1272\n",
            "Epoch 18/50\n",
            "40/40 [==============================] - 1s 23ms/step - loss: 0.1256 - val_loss: 0.1256\n",
            "Epoch 19/50\n",
            "40/40 [==============================] - 1s 22ms/step - loss: 0.1242 - val_loss: 0.1237\n",
            "Epoch 20/50\n",
            "40/40 [==============================] - 1s 23ms/step - loss: 0.1226 - val_loss: 0.1230\n",
            "Epoch 21/50\n",
            "40/40 [==============================] - 1s 38ms/step - loss: 0.1214 - val_loss: 0.1207\n",
            "Epoch 22/50\n",
            "40/40 [==============================] - 1s 34ms/step - loss: 0.1203 - val_loss: 0.1199\n",
            "Epoch 23/50\n",
            "40/40 [==============================] - 2s 40ms/step - loss: 0.1193 - val_loss: 0.1184\n",
            "Epoch 24/50\n",
            "40/40 [==============================] - 1s 22ms/step - loss: 0.1181 - val_loss: 0.1184\n",
            "Epoch 25/50\n",
            "40/40 [==============================] - 1s 23ms/step - loss: 0.1176 - val_loss: 0.1178\n",
            "Epoch 26/50\n",
            "40/40 [==============================] - 1s 24ms/step - loss: 0.1168 - val_loss: 0.1166\n",
            "Epoch 27/50\n",
            "40/40 [==============================] - 1s 24ms/step - loss: 0.1160 - val_loss: 0.1153\n",
            "Epoch 28/50\n",
            "40/40 [==============================] - 1s 24ms/step - loss: 0.1150 - val_loss: 0.1145\n",
            "Epoch 29/50\n",
            "40/40 [==============================] - 1s 24ms/step - loss: 0.1143 - val_loss: 0.1140\n",
            "Epoch 30/50\n",
            "40/40 [==============================] - 1s 24ms/step - loss: 0.1137 - val_loss: 0.1142\n"
          ]
        }
      ],
      "source": [
        "from tensorflow.keras import layers, models, callbacks\n",
        "\n",
        "\n",
        "# Define the input layer\n",
        "inp_layer = layers.Input(shape=(X.shape[1],))\n",
        "\n",
        "# Encoder layers\n",
        "encoded = layers.Dense(128, activation='relu')(inp_layer)\n",
        "encoded = layers.Dense(64, activation='relu')(encoded)\n",
        "encoded = layers.Dense(32, activation='relu')(encoded)\n",
        "\n",
        "# Decoder layers\n",
        "decoded = layers.Dense(64, activation='relu')(encoded)\n",
        "decoded = layers.Dense(128, activation='relu')(decoded)\n",
        "decoded = layers.Dense(X.shape[1], activation='sigmoid')(decoded)\n",
        "\n",
        "# Create autoencoder model\n",
        "autoencode = models.Model(inp_layer, decoded)\n",
        "\n",
        "encoder = models.Model(inp_layer, encoded)\n",
        "\n",
        "# Compile the autoencoder model\n",
        "autoencode.compile(optimizer='adam', loss='binary_crossentropy')\n",
        "\n",
        "# Train the autoencoder model\n",
        "dcn_hist = autoencode.fit(\n",
        "    X,\n",
        "    X,\n",
        "    epochs=50,\n",
        "    batch_size=256,\n",
        "    shuffle=True,\n",
        "    validation_data=(newImages, newImages),  # Validation data\n",
        "    callbacks=[callbacks.EarlyStopping()]  # Early stopping callback\n",
        ")"
      ]
    },
    {
      "cell_type": "code",
      "source": [
        "def plot_history(history, plot_val=False):\n",
        "    lh = plt.plot(history.history['loss'], label=\"training\")\n",
        "    if plot_val and 'val_loss' in history.history:\n",
        "        vlh = plt.plot(history.history['val_loss'], label=\"validation\")\n",
        "\n",
        "    plt.xlabel(\"Epochs\")\n",
        "    plt.ylabel(\"Loss\")\n",
        "    # plt.title(\"Loss\")\n",
        "    plt.legend()\n",
        "\n",
        "    plt.show()\n",
        "    plot_history(dcn_hist, plot_val=True)"
      ],
      "metadata": {
        "id": "bG4pdpi01I-B"
      },
      "id": "bG4pdpi01I-B",
      "execution_count": null,
      "outputs": []
    },
    {
      "cell_type": "code",
      "source": [
        "plot_model_predictions(autoencoder)"
      ],
      "metadata": {
        "id": "lJzeTtW21mmP"
      },
      "id": "lJzeTtW21mmP",
      "execution_count": null,
      "outputs": []
    },
    {
      "cell_type": "code",
      "source": [
        "latent_X = encoder.predict(X)"
      ],
      "metadata": {
        "id": "s5Bgrz8L304x",
        "colab": {
          "base_uri": "https://localhost:8080/"
        },
        "outputId": "cf732814-ea67-424e-beca-4a7eecddc479"
      },
      "id": "s5Bgrz8L304x",
      "execution_count": null,
      "outputs": [
        {
          "output_type": "stream",
          "name": "stdout",
          "text": [
            "313/313 [==============================] - 1s 2ms/step\n"
          ]
        }
      ]
    },
    {
      "cell_type": "code",
      "source": [
        "dcn_kmeans = KMeans(n_clusters=nb_classes, n_init=nb_classes)\n",
        "dcn_preds = dcn_kmeans.fit_predict(latent_X)"
      ],
      "metadata": {
        "id": "22-kLmoI35W_"
      },
      "id": "22-kLmoI35W_",
      "execution_count": null,
      "outputs": []
    },
    {
      "cell_type": "code",
      "source": [
        "silhouette_avg = silhouette_score(latent_X, dcn_preds)\n",
        "print(f\"Silhouette Score: {silhouette_avg}\")"
      ],
      "metadata": {
        "id": "apLuke9O4At4"
      },
      "id": "apLuke9O4At4",
      "execution_count": null,
      "outputs": []
    },
    {
      "cell_type": "markdown",
      "id": "072740aa-61e6-4df7-81c7-1af496653a8c",
      "metadata": {
        "id": "072740aa-61e6-4df7-81c7-1af496653a8c"
      },
      "source": [
        "### N2D: add a mainfold mapping before clustering\n",
        "\n",
        "Map the latent representation before clustering. Evaluate the result."
      ]
    },
    {
      "cell_type": "code",
      "execution_count": null,
      "id": "797fd90d-a4bd-443b-b989-c9e45e97c481",
      "metadata": {
        "id": "797fd90d-a4bd-443b-b989-c9e45e97c481",
        "colab": {
          "base_uri": "https://localhost:8080/"
        },
        "outputId": "e97da48b-6de6-41d9-f2fb-5fbdf70c16e0"
      },
      "outputs": [
        {
          "output_type": "stream",
          "name": "stdout",
          "text": [
            "Silhouette Score: 0.14393137395381927\n"
          ]
        }
      ],
      "source": [
        "#\"manifold mapping\" refers to the process of transforming or\n",
        "#projecting data from a high-dimensional space to a lower-dimensional space while preserving certain structural characteristics of the data.\n",
        "manifold_kmeans = KMeans(n_clusters=nb_classes, n_init=nb_classes)\n",
        "\n",
        "from sklearn.manifold import TSNE\n",
        "\n",
        "tsne = TSNE(n_components=2)\n",
        "manifold_projection = tsne.fit_transform(latent_X)\n",
        "#the result of transforming the original latent representations (latent_X) using t-SNE\n",
        "preds = dcn_kmeans.fit_predict(manifold_projection)\n",
        "\n",
        "silhouette_avg = silhouette_score(latent_X, dcn_preds)\n",
        "print(f\"Silhouette Score: {silhouette_avg}\")"
      ]
    }
  ],
  "metadata": {
    "kernelspec": {
      "display_name": "Python 3 (ipykernel)",
      "language": "python",
      "name": "python3"
    },
    "language_info": {
      "codemirror_mode": {
        "name": "ipython",
        "version": 3
      },
      "file_extension": ".py",
      "mimetype": "text/x-python",
      "name": "python",
      "nbconvert_exporter": "python",
      "pygments_lexer": "ipython3",
      "version": "3.11.4"
    },
    "latex_envs": {
      "LaTeX_envs_menu_present": true,
      "autoclose": true,
      "autocomplete": true,
      "bibliofile": "biblio.bib",
      "cite_by": "apalike",
      "current_citInitial": 1,
      "eqLabelWithNumbers": true,
      "eqNumInitial": 1,
      "hotkeys": {
        "equation": "Ctrl-E",
        "itemize": "Ctrl-I"
      },
      "labels_anchors": false,
      "latex_user_defs": false,
      "report_style_numbering": false,
      "user_envs_cfg": false
    },
    "nbTranslate": {
      "displayLangs": [
        "*"
      ],
      "hotkey": "alt-t",
      "langInMainMenu": true,
      "sourceLang": "en",
      "targetLang": "fr",
      "useGoogleTranslate": true
    },
    "colab": {
      "provenance": []
    }
  },
  "nbformat": 4,
  "nbformat_minor": 5
}